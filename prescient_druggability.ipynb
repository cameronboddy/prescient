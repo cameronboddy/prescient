{
 "cells": [
  {
   "cell_type": "markdown",
   "metadata": {},
   "source": [
    "**Test Area for Prescient Project on Druggability**"
   ]
  },
  {
   "cell_type": "markdown",
   "metadata": {},
   "source": [
    "**Install dependencies in the terminal:**"
   ]
  },
  {
   "cell_type": "code",
   "execution_count": 1,
   "metadata": {},
   "outputs": [],
   "source": [
    "# pip install biopandas biopython freesasa pandas numpy"
   ]
  },
  {
   "cell_type": "code",
   "execution_count": 2,
   "metadata": {},
   "outputs": [],
   "source": [
    "import ssl, certifi\n",
    "ssl._create_default_https_context = lambda: ssl.create_default_context(cafile=certifi.where())\n"
   ]
  },
  {
   "cell_type": "markdown",
   "metadata": {},
   "source": [
    "**Import libraries:**"
   ]
  },
  {
   "cell_type": "code",
   "execution_count": 3,
   "metadata": {},
   "outputs": [],
   "source": [
    "from biopandas.pdb import PandasPdb          # To fetch PDB files\n",
    "from Bio.PDB import PDBParser, PDBIO, Select # To manipulate structures\n",
    "from Bio.SeqUtils import seq1                # To convert 3-letter -> 1-letter residues\n",
    "import freesasa                              # To compute solvent accessible surface area (SASA)\n",
    "import pandas as pd                          # To handle dataframes\n",
    "import numpy as np                           # To handle arrays\n",
    "import tempfile, re, urllib.request          # To handle temporary files, regex, and downloading files"
   ]
  },
  {
   "cell_type": "markdown",
   "metadata": {},
   "source": [
    "**Configuration:**\n",
    "\n",
    "Use two definitions (distance AND ΔSASA). Their intersection is robust: real contacts that are also truly buried."
   ]
  },
  {
   "cell_type": "code",
   "execution_count": 4,
   "metadata": {},
   "outputs": [],
   "source": [
    "PDB_ID = \"5XXY\"           # Structure from PDB: PD-L1 + atezolizumab Fab (Antigent Binding Fragment)\n",
    "DIST_CUTOFF = 4.5         # If any heavy atom of a PD-L1 residue is ≤ 4.5 Å from any antibody atom, mark it as contacting\n",
    "DSASA_THRESH = 2.0        # Call a residue an epitope if its surface buries at least 2 Å² upon binding\n",
    "PH = 7.4                  # Side-chain charge depends on pH; 7.4 is physiological standard"
   ]
  },
  {
   "cell_type": "markdown",
   "metadata": {},
   "source": [
    "**Download the structure:**"
   ]
  },
  {
   "cell_type": "code",
   "execution_count": 5,
   "metadata": {},
   "outputs": [
    {
     "name": "stdout",
     "output_type": "stream",
     "text": [
      "Downloaded PDB structure 5XXY to 5XXY.pdb\n"
     ]
    }
   ],
   "source": [
    "ppdb = PandasPdb().fetch_pdb(PDB_ID)                                    # Use fetch_pdb to save the structure as a PandasPdb object\n",
    "pdb_path = f\"{PDB_ID}.pdb\"                                              # Save filename as 5xxy.pdb\n",
    "ppdb.to_pdb(path=pdb_path, records=None, gz=False, append_newline=True) # Write the PDB file to disk\n",
    "print(f\"Downloaded PDB structure {PDB_ID} to {pdb_path}\")               # Confirm download"
   ]
  },
  {
   "cell_type": "markdown",
   "metadata": {},
   "source": [
    "**Define chains:**\n",
    "\n",
    "For 5XXY, chain A = PD-L1, chains H and L = antibody heavy and light"
   ]
  },
  {
   "cell_type": "code",
   "execution_count": 6,
   "metadata": {},
   "outputs": [],
   "source": [
    "pdl1_chains   = ['A']       # PD-L1 antigen\n",
    "binder_chains = ['H','L']   # Antibody chains"
   ]
  },
  {
   "cell_type": "markdown",
   "metadata": {},
   "source": [
    "**Load structure with Biopython:**\n",
    "\n",
    "A PDB file is just a plain text file with atomic coordinates.\n",
    "\n",
    "PDBParser is the tool that reads that text and builds a hierarchical data structure you can work with in Python."
   ]
  },
  {
   "cell_type": "code",
   "execution_count": 7,
   "metadata": {},
   "outputs": [],
   "source": [
    "parser = PDBParser(QUIET=True)                      # Reads the coordinates into Python objects (Structure → Model → Chain → Residue → Atom).\n",
    "structure = parser.get_structure(PDB_ID, pdb_path)  # Load structure from file\n",
    "model = structure[0]                                # First (and only) model in PDB - usually one for x ray and many for NMR ensembles"
   ]
  },
  {
   "cell_type": "markdown",
   "metadata": {},
   "source": [
    "**Helper functions:**\n",
    "\n",
    "**residue_id** - Return unique ID for a residue (chain, number, insertion code)\n",
    "\n",
    "**residue_name** - Return one-letter amino acid code (or X if unknown)\n",
    "\n",
    "**heavy_atom_coords** - Get all non-hydrogen atom coordinates of a residue\n"
   ]
  },
  {
   "cell_type": "code",
   "execution_count": 8,
   "metadata": {},
   "outputs": [],
   "source": [
    "def residue_id(res):\n",
    "    return (res.get_parent().id, res.get_id()[1], res.get_id()[2].strip() or \"\")\n",
    "\n",
    "# res.get_parent().id → finds the chain ID (e.g., chain \"A\" or \"B\" in a protein).\n",
    "# res.get_id() → gives a tuple with information about the residue.\n",
    "# [1] → the residue number (e.g. 45, meaning \"residue #45\").\n",
    "# [2] → an insertion code (a letter used if two residues share the same number).\n",
    "# .strip() or \"\" → removes extra spaces. If nothing’s left, it uses an empty string \"\".\n",
    "# This ensures every residue has a unique identifier like: (\"A\", 45, \"\")\n",
    "\n",
    "def residue_name(res):\n",
    "    three = res.get_resname().strip()\n",
    "    try:\n",
    "        return seq1(three, custom_map={'SEC':'U','PYL':'O'})\n",
    "    except Exception:\n",
    "        return \"X\"\n",
    "\n",
    "# res.get_resname() → gives the 3-letter code for the amino acid (like \"ALA\" for Alanine)\n",
    "# seq1(three) → converts the 3-letter code into a 1-letter code (like \"A\")\n",
    "# custom_map={'SEC':'U','PYL':'O'} → some unusual amino acids aren’t in the standard list, so tell Biopython what letters to use: SEC → U (Selenocysteine) PYL → O (Pyrrolysine)\n",
    "# try / except → if Biopython can’t convert the residue name, it returns \"X\" (which usually means \"unknown amino acid\")\n",
    "\n",
    "def heavy_atom_coords(res):\n",
    "    coords = []\n",
    "    for atom in res.get_atoms():\n",
    "        if atom.element != \"H\": \n",
    "            coords.append(atom.get_coord())\n",
    "    return np.array(coords)\n",
    "\n",
    "# create an empty list coords to store the coordinates\n",
    "# iterate over all atoms in the residue using res.get_atoms()\n",
    "# check if the atom is not a hydrogen (atom.element != \"H\") - skip hydrogens as often missing in crystal structures\n",
    "# if it’s a heavy atom, append its coordinates (atom.coord) to the coords list\n",
    "# return the list of heavy atom coordinates\n"
   ]
  },
  {
   "cell_type": "markdown",
   "metadata": {},
   "source": [
    "**Distance based epitope:**"
   ]
  },
  {
   "cell_type": "code",
   "execution_count": 9,
   "metadata": {},
   "outputs": [
    {
     "name": "stdout",
     "output_type": "stream",
     "text": [
      "Collected 3197 antibody heavy atom coordinates\n",
      "Computed min distance to antibody for 99 PD-L1 residues\n",
      "Chain A, Residue 18: 4.20 Å\n",
      "Chain A, Residue 19: 5.34 Å\n",
      "Chain A, Residue 20: 7.69 Å\n",
      "Chain A, Residue 21: 7.50 Å\n",
      "Chain A, Residue 22: 11.89 Å\n"
     ]
    }
   ],
   "source": [
    "# Gather all antibody atom coordinates in order to see which PD-L1 residues are close to any antibody atoms\n",
    "\n",
    "binder_coords = []                            # create an empty list to hold coordinates\n",
    "for ch in model:\n",
    "    if ch.id in binder_chains:                # binder = antibody chains H and L\n",
    "        for res in ch.get_residues():         # loop over residues in this chain\n",
    "            coords = heavy_atom_coords(res)   # return a NumPy array of all non-hydrogen atom coordinates for that residue\n",
    "            if coords.size:                   # check that coords is not empty and append to binder_coords list\n",
    "                binder_coords.append(coords)\n",
    "binder_coords = np.vstack(binder_coords)      # stack list of arrays vertically into one big NumPy array with all antibody atom coordinates\n",
    "\n",
    "print(f\"Collected {binder_coords.shape[0]} antibody heavy atom coordinates\") # shape might be (1234, 3) for 1234 atoms in 3 dimensions\n",
    "\n",
    "\n",
    "# For each PD-L1 residue: compute min distance to antibody\n",
    "\n",
    "dist_epitope = {}\n",
    "for ch in model:\n",
    "    if ch.id in pdl1_chains:                                    # antigen = PD-L1 (chain A)\n",
    "        for res in ch.get_residues():                           # loop over residues in this chain\n",
    "            coords = heavy_atom_coords(res)                     # return a NumPy array of all non-hydrogen atom coordinates for that residue\n",
    "            if coords.size == 0: continue                       # skip residues with no atoms\n",
    "            diff = coords[:,None,:] - binder_coords[None,:,:]   # diff = difference between each PD-L1 atom and each antibody atom in 3D (NumPy broadcasting trick to deal with different numbers of atoms)\n",
    "            dists = np.sqrt(np.sum(diff**2, axis=2))            # dist = Euclidean distance between each PD-L1 atom and each antibody atom\n",
    "            dmin = np.min(dists)                                # minimum distance between any PD-L1 atom and any antibody atom\n",
    "            dist_epitope[residue_id(res)] = dmin                # store minimum distance in dictionary with residue ID as key\n",
    "\n",
    "print(f\"Computed min distance to antibody for {len(dist_epitope)} PD-L1 residues\") # should be number of residues in chain A\n",
    "\n",
    "for res, dist in list(dist_epitope.items())[:5]:\n",
    "    chain, num, ins = res\n",
    "    print(f\"Chain {chain}, Residue {num}{ins or ''}: {dist:.2f} Å\")\n",
    "\n"
   ]
  }
 ],
 "metadata": {
  "kernelspec": {
   "display_name": ".venv (3.13.2)",
   "language": "python",
   "name": "python3"
  },
  "language_info": {
   "codemirror_mode": {
    "name": "ipython",
    "version": 3
   },
   "file_extension": ".py",
   "mimetype": "text/x-python",
   "name": "python",
   "nbconvert_exporter": "python",
   "pygments_lexer": "ipython3",
   "version": "3.13.2"
  }
 },
 "nbformat": 4,
 "nbformat_minor": 2
}
