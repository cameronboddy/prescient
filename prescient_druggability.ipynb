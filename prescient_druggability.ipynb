{
 "cells": [
  {
   "cell_type": "markdown",
   "metadata": {},
   "source": [
    "**Test Area for Prescient Project on Druggability**"
   ]
  },
  {
   "cell_type": "markdown",
   "metadata": {},
   "source": [
    "**Install dependencies in the terminal:**"
   ]
  },
  {
   "cell_type": "code",
   "execution_count": 18,
   "metadata": {},
   "outputs": [],
   "source": [
    "# pip install biopandas biopython pandas numpy"
   ]
  },
  {
   "cell_type": "markdown",
   "metadata": {},
   "source": [
    "**Import libraries:**"
   ]
  },
  {
   "cell_type": "code",
   "execution_count": 19,
   "metadata": {},
   "outputs": [],
   "source": [
    "from biopandas.pdb import PandasPdb                            # To handle PDB files as dataframes\n",
    "from Bio.PDB import PDBParser, PDBIO, Select, NeighborSearch   # To parse PDB files and handle structures\n",
    "from Bio.PDB.SASA import ShrakeRupley                          # To compute solvent accessible surface area (SASA)\n",
    "from Bio.SeqUtils import seq1                                  # To convert 3-letter to 1-letter amino acid codes\n",
    "from Bio.SeqUtils.ProtParam import ProteinAnalysis             # To compute protein properties\n",
    "import pandas as pd                                            # To handle dataframes\n",
    "import numpy as np                                             # To handle arrays\n",
    "import tempfile, re, urllib.request                            # To handle temporary files, regex, and downloading files"
   ]
  },
  {
   "cell_type": "markdown",
   "metadata": {},
   "source": [
    "**Configuration:**\n",
    "\n",
    "Use two definitions (distance AND ΔSASA)"
   ]
  },
  {
   "cell_type": "code",
   "execution_count": 20,
   "metadata": {},
   "outputs": [],
   "source": [
    "PDB_ID = \"5X8L\"             # Structure from PDB: PD-L1 + atezolizumab Fab (Antigent Binding Fragment)\n",
    "pdb_path = f\"{PDB_ID}.pdb\"  # Save filename as 5xxy.pdb\n",
    "DIST_CUTOFF = 4.5           # If any heavy atom of a PD-L1 residue is ≤ 4.5 Å from any antibody atom, mark it as contacting\n",
    "DSASA_THRESH = 2.0          # Call a residue an epitope if its surface buries at least 2 Å² upon binding\n",
    "PH = 7.4                    # Side-chain charge depends on pH; 7.4 is physiological standard"
   ]
  },
  {
   "cell_type": "markdown",
   "metadata": {},
   "source": [
    "**Download the structure:**"
   ]
  },
  {
   "cell_type": "code",
   "execution_count": 21,
   "metadata": {},
   "outputs": [
    {
     "name": "stdout",
     "output_type": "stream",
     "text": [
      "Downloaded PDB structure 5X8L to 5X8L.pdb\n"
     ]
    }
   ],
   "source": [
    "ppdb = PandasPdb().fetch_pdb(PDB_ID)                                    # Use fetch_pdb to save the structure as a PandasPdb object\n",
    "ppdb.to_pdb(path=pdb_path, records=None, gz=False, append_newline=True) # Write the PDB file to disk\n",
    "print(f\"Downloaded PDB structure {PDB_ID} to {pdb_path}\")               # Confirm download"
   ]
  },
  {
   "cell_type": "markdown",
   "metadata": {},
   "source": [
    "**Define chains:**\n",
    "\n",
    "For 5XXY, chain A = PD-L1, chains H and L = antibody heavy and light"
   ]
  },
  {
   "cell_type": "code",
   "execution_count": 22,
   "metadata": {},
   "outputs": [],
   "source": [
    "pdl1_chains   = ['A']       # PD-L1 antigen\n",
    "binder_chains = ['H','L']   # Antibody chains"
   ]
  },
  {
   "cell_type": "markdown",
   "metadata": {},
   "source": [
    "**Load structure with Biopython:**\n",
    "\n",
    "A PDB file is just a plain text file with atomic coordinates.\n",
    "\n",
    "PDBParser is the tool that reads that text and builds a hierarchical data structure you can work with in Python."
   ]
  },
  {
   "cell_type": "code",
   "execution_count": 23,
   "metadata": {},
   "outputs": [],
   "source": [
    "parser = PDBParser(QUIET=True)                      # Reads the coordinates into Python objects (Structure → Model → Chain → Residue → Atom).\n",
    "structure = parser.get_structure(PDB_ID, pdb_path)  # Load structure from file\n",
    "model = structure[0]                                # First (and only) model in PDB - usually one for x ray and many for NMR ensembles"
   ]
  },
  {
   "cell_type": "markdown",
   "metadata": {},
   "source": [
    "**Helper functions:**\n",
    "\n",
    "**residue_id** - Return unique ID for a residue (chain, number, insertion code)\n",
    "\n",
    "**residue_features** - Hydrophobicity (Kyte–Doolittle) and net charge at pH\n"
   ]
  },
  {
   "cell_type": "code",
   "execution_count": 24,
   "metadata": {},
   "outputs": [],
   "source": [
    "def residue_id(res):\n",
    "    return (res.get_parent().id, res.get_id()[1], res.get_id()[2].strip() or \"\")\n",
    "\n",
    "# res.get_parent().id → finds the chain ID (e.g., chain \"A\" or \"B\" in a protein).\n",
    "# res.get_id() → gives a tuple with information about the residue.\n",
    "# [1] → the residue number (e.g. 45, meaning \"residue #45\").\n",
    "# [2] → an insertion code (a letter used if two residues share the same number).\n",
    "# .strip() or \"\" → removes extra spaces. If nothing’s left, it uses an empty string \"\".\n",
    "# This ensures every residue has a unique identifier like: (\"A\", 45, \"\")\n",
    "\n",
    "def residue_features(resname, pH=7.4): #resname comes from structure data i.e. TYR / LYS\n",
    "    try:\n",
    "        aa1 = seq1(resname.strip(), custom_map={'SEC':'U','PYL':'O'}) # Convert 3-letter to 1-letter code; handle special cases\n",
    "        pa = ProteinAnalysis(aa1)                                     # Create ProteinAnalysis object that can compute properties of the amino acid\n",
    "        return pa.gravy(), pa.charge_at_pH(pH)                        # gravy = hydrophobicity; charge_at_pH = net charge at given pH\n",
    "    except Exception:\n",
    "        return None, None\n"
   ]
  },
  {
   "cell_type": "markdown",
   "metadata": {},
   "source": [
    "**Create PDL1 only structure:**"
   ]
  },
  {
   "cell_type": "code",
   "execution_count": 25,
   "metadata": {},
   "outputs": [
    {
     "name": "stdout",
     "output_type": "stream",
     "text": [
      "Saved PD-L1 only structure to C:\\Users\\boddyc\\AppData\\Local\\Temp/5X8L_pdl1_only.pdb\n"
     ]
    }
   ],
   "source": [
    "class OnlyChains(Select):                                            # Helper to save only specified chains from a structure\n",
    "    def __init__(self, keep): self.keep=set(keep)                    # Store chains to keep as a set for fast lookup\n",
    "    def accept_chain(self, chain): return chain.id in self.keep      # Only accept chains in the keep set\n",
    "\n",
    "pdbio = PDBIO()                                                      # Create PDBIO object to write structures to file\n",
    "pdbio.set_structure(structure)                                       # Set the structure to write\n",
    "pdl1_only_path = tempfile.gettempdir() + f\"/{PDB_ID}_pdl1_only.pdb\"  # Create a temporary file path for PD-L1 only structure i.e. /tmp/5XXY_pdl1_only.pdb\n",
    "pdbio.save(pdl1_only_path, select=OnlyChains(pdl1_chains))           # Save only PD-L1 chains to the temporary file\n",
    "print(f\"Saved PD-L1 only structure to {pdl1_only_path}\")             # Confirm save\n",
    "\n",
    "pdl1_struct = parser.get_structure(PDB_ID+\"_pdl1\", pdl1_only_path)   # Load PD-L1 only structure into memory from temporary file\n",
    "pdl1_model = pdl1_struct[0]                                          # Define first (and only) model in PD-L1 structure\n"
   ]
  },
  {
   "cell_type": "markdown",
   "metadata": {},
   "source": [
    "**Compute SASA (Shrake-Rupley)**\n",
    "\n",
    "The function will take a biopython model as an input and return the solvent accessible surface area per residue and return it as a dictionary"
   ]
  },
  {
   "cell_type": "code",
   "execution_count": 26,
   "metadata": {},
   "outputs": [],
   "source": [
    "def per_residue_sasa(model):\n",
    "    sr = ShrakeRupley()                      # Create ShrakeRupley object to compute SASA\n",
    "    sr.compute(model, level=\"A\")             # Compute SASA at atom level for the given model\n",
    "    res_sasa = {}                            # Initialize dictionary to store SASA per residue\n",
    "    for chain in model:\n",
    "        for res in chain:\n",
    "            if res.id[0] != \" \":             # Skip heteroatoms / waters\n",
    "                continue\n",
    "            sasa = sum(getattr(atom, \"sasa\", 0.0) for atom in res)           # Sum SASA of all atoms in the residue\n",
    "            res_sasa[(chain.id, res.id[1], res.id[2].strip() or \"\")] = sasa  # Store SASA in dictionary with unique residue ID as key\n",
    "    return res_sasa\n",
    "\n",
    "sasa_complex = per_residue_sasa(model)       # PD-L1 inside complex\n",
    "sasa_free    = per_residue_sasa(pdl1_model)  # PD-L1 alone"
   ]
  },
  {
   "cell_type": "markdown",
   "metadata": {},
   "source": [
    "**Distance based contact check**"
   ]
  },
  {
   "cell_type": "code",
   "execution_count": 27,
   "metadata": {},
   "outputs": [],
   "source": [
    "# Build binder atom list (all chains not in PD-L1)\n",
    "binder_atoms = []                                                             # List to hold all heavy atoms from binder (antibody)\n",
    "for ch in model:  \n",
    "    if ch.id not in pdl1_chains:\n",
    "        for res in ch:\n",
    "            if res.id[0] != \" \": continue\n",
    "            for atom in res:\n",
    "                if atom.element != \"H\":\n",
    "                    binder_atoms.append(atom)\n",
    "ns_binder = NeighborSearch(binder_atoms)                                      # Create NeighborSearch object for fast spatial queries\n",
    "\n",
    "def residue_in_contact_with_binder(residue, ns, cutoff=4.5):                  # True if residue has any heavy atom within cutoff Å of binder atoms\n",
    "    my_atoms = [a for a in residue if a.element != \"H\"]                       # List of heavy atoms in the residue\n",
    "    for a in my_atoms:\n",
    "        if ns.search(a.coord, cutoff):                                        # Search for any binder atom within cutoff of this atom\n",
    "            return True\n",
    "    return False"
   ]
  },
  {
   "cell_type": "markdown",
   "metadata": {},
   "source": [
    "**Build a DataFrame**"
   ]
  },
  {
   "cell_type": "code",
   "execution_count": 28,
   "metadata": {},
   "outputs": [],
   "source": [
    "rows = []\n",
    "for ch in model:\n",
    "    if ch.id in pdl1_chains:\n",
    "        for res in ch:\n",
    "            if res.id[0] != \" \": \n",
    "                continue\n",
    "            rid = residue_id(res)\n",
    "            asa_c = sasa_complex.get(rid, 0.0)\n",
    "            asa_f = sasa_free.get(rid, 0.0)\n",
    "            d_asa = asa_f - asa_c\n",
    "\n",
    "            # Contact check\n",
    "            contact_flag = residue_in_contact_with_binder(res, ns_binder, DIST_CUTOFF)\n",
    "\n",
    "            # Chemical features\n",
    "            hydro, charge = residue_features(res.get_resname(), PH)\n",
    "\n",
    "            rows.append({\n",
    "                \"chain\": ch.id,\n",
    "                \"resseq\": rid[1],\n",
    "                \"icode\": rid[2],\n",
    "                \"resname\": res.get_resname(),\n",
    "                \"ASA_complex_A2\": asa_c,\n",
    "                \"ASA_free_A2\": asa_f,\n",
    "                \"dASA_A2\": d_asa,\n",
    "                \"is_epitope_dASA\": (d_asa >= DSASA_THRESH),\n",
    "                \"is_epitope_distance\": contact_flag,\n",
    "                \"is_epitope_intersection\": contact_flag and (d_asa >= DSASA_THRESH),\n",
    "                \"hydrophobicity\": hydro,\n",
    "                \"charge_at_pH7.4\": charge\n",
    "            })\n",
    "\n",
    "df = pd.DataFrame(rows).sort_values([\"chain\",\"resseq\",\"icode\"])\n"
   ]
  },
  {
   "cell_type": "markdown",
   "metadata": {},
   "source": [
    "**Output**"
   ]
  },
  {
   "cell_type": "code",
   "execution_count": 29,
   "metadata": {},
   "outputs": [
    {
     "name": "stdout",
     "output_type": "stream",
     "text": [
      "\n",
      "Top PD-L1 residues by ΔSASA (burial):\n",
      "    chain  resseq resname     dASA_A2  is_epitope_distance\n",
      "73      A      94     LEU  119.110897                 True\n",
      "28      A      46     LYS   81.226821                 True\n",
      "58      A      79     SER   72.095882                 True\n",
      "29      A      47     GLU   66.347974                 True\n",
      "102     A     123     TYR   65.448473                 True\n",
      "98      A     119     GLY   64.013607                 True\n",
      "104     A     125     ARG   62.267309                 True\n",
      "40      A      58     GLU   57.468174                 True\n",
      "100     A     121     ALA   55.629991                 True\n",
      "51      A      69     HIS   54.410500                 True\n",
      "\n",
      "Intersection epitope residues (contact + ΔSASA ≥ 2.0 Å²):\n",
      "chain  resseq resname    dASA_A2  hydrophobicity  charge_at_pH7.4\n",
      "    A      20     THR  12.216686            -0.7        -0.791608\n",
      "    A      24     PRO  22.672598            -1.6        -0.098672\n",
      "    A      25     LYS  46.547722            -3.9         0.554947\n",
      "    A      37     THR  45.397924            -0.7        -0.791608\n",
      "    A      39     GLU  48.351825            -3.5        -1.330506\n",
      "    A      41     LYS  43.562266            -3.9         0.554947\n",
      "    A      42     PHE   5.765803             2.8        -0.442547\n",
      "    A      43     PRO  36.000767            -1.6        -0.098672\n",
      "    A      44     VAL  20.393510             4.2        -0.476849\n",
      "    A      45     GLU  40.987781            -3.5        -1.330506\n",
      "    A      46     LYS  81.226821            -3.9         0.554947\n",
      "    A      47     GLU  66.347974            -3.5        -1.330506\n",
      "    A      49     ASP  53.608740            -3.5        -1.440831\n",
      "    A      51     ALA  15.953611             1.8        -0.392198\n",
      "    A      52     ALA  48.287234             1.8        -0.392198\n",
      "    A      54     ILE  37.436475             4.5        -0.442547\n",
      "    A      56     TYR  53.218127            -1.3        -0.445053\n",
      "    A      58     GLU  57.468174            -3.5        -1.330506\n",
      "    A      59     MET   7.772552             1.9        -0.715112\n",
      "    A      60     GLU  24.701476            -3.5        -1.330506\n",
      "    A      61     ASP  46.131498            -3.5        -1.440831\n",
      "    A      62     LYS  10.162286            -3.9         0.554947\n",
      "    A      63     ASN  12.599671            -3.5        -0.442547\n",
      "    A      66     GLN  48.724632            -3.5        -0.442547\n",
      "    A      68     VAL  38.371765             4.2        -0.476849\n",
      "    A      69     HIS  54.410500            -3.2        -0.405921\n",
      "    A      76     VAL  52.518633             4.2        -0.476849\n",
      "    A      77     GLN  28.266442            -3.5        -0.442547\n",
      "    A      79     SER  72.095882            -0.8        -0.746772\n",
      "    A      80     SER  30.989826            -0.8        -0.746772\n",
      "    A      88     LEU   2.415256             3.8        -0.442547\n",
      "    A      91     GLN  23.904039            -3.5        -0.442547\n",
      "    A      94     LEU 119.110897             3.8        -0.442547\n",
      "    A     107     GLN  30.371975            -3.5        -0.442547\n",
      "    A     111     VAL  17.433577             4.2        -0.476849\n",
      "    A     113     ARG  53.337332            -4.5         0.557428\n",
      "    A     115     MET  27.042830             1.9        -0.715112\n",
      "    A     117     SER  14.201306            -0.8        -0.746772\n",
      "    A     118     TYR  17.025070            -1.3        -0.445053\n",
      "    A     119     GLY  64.013607            -0.4        -0.442547\n",
      "    A     120     GLY  27.319290            -0.4        -0.442547\n",
      "    A     121     ALA  55.629991             1.8        -0.392198\n",
      "    A     122     ASP   4.558174            -3.5        -1.440831\n",
      "    A     123     TYR  65.448473            -1.3        -0.445053\n",
      "    A     125     ARG  62.267309            -4.5         0.557428\n",
      "\n",
      "Saved detailed table to 5X8L_epitope_analysis.csv\n"
     ]
    }
   ],
   "source": [
    "print(\"\\nTop PD-L1 residues by ΔSASA (burial):\")\n",
    "print(df.sort_values(\"dASA_A2\", ascending=False).head(10)[\n",
    "    [\"chain\",\"resseq\",\"resname\",\"dASA_A2\",\"is_epitope_distance\"]\n",
    "])\n",
    "\n",
    "print(\"\\nIntersection epitope residues (contact + ΔSASA ≥ {:.1f} Å²):\".format(DSASA_THRESH))\n",
    "print(df[df[\"is_epitope_intersection\"]][\n",
    "    [\"chain\",\"resseq\",\"resname\",\"dASA_A2\",\"hydrophobicity\",\"charge_at_pH7.4\"]\n",
    "].to_string(index=False))\n",
    "\n",
    "df.to_csv(f\"{PDB_ID}_epitope_analysis.csv\", index=False)\n",
    "print(f\"\\nSaved detailed table to {PDB_ID}_epitope_analysis.csv\")"
   ]
  }
 ],
 "metadata": {
  "kernelspec": {
   "display_name": ".venv (3.13.2)",
   "language": "python",
   "name": "python3"
  },
  "language_info": {
   "codemirror_mode": {
    "name": "ipython",
    "version": 3
   },
   "file_extension": ".py",
   "mimetype": "text/x-python",
   "name": "python",
   "nbconvert_exporter": "python",
   "pygments_lexer": "ipython3",
   "version": "3.13.2"
  }
 },
 "nbformat": 4,
 "nbformat_minor": 2
}
