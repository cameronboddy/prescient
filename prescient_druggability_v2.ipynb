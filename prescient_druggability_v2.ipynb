{
 "cells": [
  {
   "cell_type": "markdown",
   "metadata": {},
   "source": [
    "**Test Area for Prescient Project on Druggability**"
   ]
  },
  {
   "cell_type": "markdown",
   "metadata": {},
   "source": [
    "**Install dependencies in the terminal:**"
   ]
  },
  {
   "cell_type": "code",
   "execution_count": 6,
   "metadata": {},
   "outputs": [],
   "source": [
    "# pip install biopandas biopython pandas numpy"
   ]
  },
  {
   "cell_type": "markdown",
   "metadata": {},
   "source": [
    "**Import libraries:**"
   ]
  },
  {
   "cell_type": "code",
   "execution_count": 7,
   "metadata": {},
   "outputs": [],
   "source": [
    "from biopandas.pdb import PandasPdb\n",
    "from Bio.PDB import PDBParser, PDBIO, Select, NeighborSearch\n",
    "from Bio.PDB.SASA import ShrakeRupley\n",
    "from Bio.SeqUtils import seq1\n",
    "from Bio.SeqUtils.ProtParam import ProteinAnalysis\n",
    "import pandas as pd, tempfile"
   ]
  },
  {
   "cell_type": "markdown",
   "metadata": {},
   "source": [
    "**Configuration:**\n",
    "\n",
    "Use two definitions (distance AND ΔSASA)"
   ]
  },
  {
   "cell_type": "code",
   "execution_count": 8,
   "metadata": {},
   "outputs": [],
   "source": [
    "PDB_IDS = [\"5X8L\", \"5XXY\"]   # list of complexes (one row per PDB)\n",
    "DIST_CUTOFF = 4.5\n",
    "DSASA_THRESH = 2.0\n",
    "PH = 7.4\n",
    "antigen_chains = [\"A\"]\n",
    "light_chain = \"L\"\n",
    "heavy_chain = \"H\"\n",
    "\n",
    "parser = PDBParser(QUIET=True)"
   ]
  },
  {
   "cell_type": "markdown",
   "metadata": {},
   "source": [
    "**Helper functions:**\n"
   ]
  },
  {
   "cell_type": "code",
   "execution_count": 9,
   "metadata": {},
   "outputs": [],
   "source": [
    "# Sum the SASA of all atoms in each residue and return a dict with keys (chain, resnum, icode) - icode is insertion code (e.g. 23 24A 24B 25)\n",
    "def per_residue_sasa(model):\n",
    "    sr = ShrakeRupley(); sr.compute(model, level=\"A\")\n",
    "    res_sasa = {}\n",
    "    for chain in model:\n",
    "        for res in chain:\n",
    "            if res.id[0] != \" \": continue\n",
    "            sasa = sum(getattr(atom, \"sasa\", 0.0) for atom in res)\n",
    "            res_sasa[(chain.id, res.id[1], res.id[2].strip() or \"\")] = sasa\n",
    "    return res_sasa\n",
    "\n",
    "# For a given chain ID, return the amino acid sequence as a string of one-letter codes\n",
    "def chain_seq(model, chain_id):\n",
    "    seq = []\n",
    "    for ch in model:\n",
    "        if ch.id != chain_id: continue\n",
    "        for res in ch:\n",
    "            if res.id[0] != \" \": continue\n",
    "            aa = seq1(res.get_resname(), custom_map={'SEC':'U','PYL':'O'})\n",
    "            if aa and len(aa) == 1: seq.append(aa)\n",
    "    return \"\".join(seq)\n",
    "\n",
    "# Select only specified chains when saving a PDB file\n",
    "class OnlyChains(Select):\n",
    "    def __init__(self, keep): self.keep=set(keep)\n",
    "    def accept_chain(self, chain): return chain.id in self.keep\n",
    "\n",
    "# Return True if any heavy atom of res is within cutoff Å of any atom in ns (a NeighborSearch object)\n",
    "def residue_in_contact(res, ns, cutoff=4.5):\n",
    "    for atom in res:\n",
    "        if atom.element == \"H\": continue\n",
    "        if ns.search(atom.coord, cutoff): return True # (is this also neighbor searching to itself i.e. the same chain?)\n",
    "    return False\n",
    "\n",
    "# For a single letter amino acid and pH, return (hydrophobicity, charge); handle unknowns gracefully\n",
    "def aa_props(aa1: str, ph: float):\n",
    "    \"\"\"Return (hydrophobicity, charge) for a single-letter AA; handle unknowns gracefully.\"\"\"\n",
    "    try:\n",
    "        pa = ProteinAnalysis(aa1)\n",
    "        return pa.gravy(), pa.charge_at_pH(ph)\n",
    "    except Exception:\n",
    "        return None, None\n",
    "\n",
    "#    Build full antigen sequence and per-residue properties aligned to it.\n",
    "#    Returns: seq_str, hydros_list, charges_list\n",
    "def antigen_seq_and_props(model, ag_chains, ph):\n",
    "    seq_chars, hydros, charges = [], [], []\n",
    "    for ch in model:\n",
    "        if ch.id not in ag_chains: \n",
    "            continue\n",
    "        for res in ch:\n",
    "            if res.id[0] != \" \": \n",
    "                continue\n",
    "            aa = seq1(res.get_resname(), custom_map={'SEC':'U','PYL':'O'})\n",
    "            if not (aa and len(aa) == 1):\n",
    "                continue\n",
    "            seq_chars.append(aa)\n",
    "            h, c = aa_props(aa, ph)\n",
    "            hydros.append(h)\n",
    "            charges.append(c)\n",
    "    return \"\".join(seq_chars), hydros, charges"
   ]
  },
  {
   "cell_type": "markdown",
   "metadata": {},
   "source": [
    "**Main Loop Over PDBs**"
   ]
  },
  {
   "cell_type": "code",
   "execution_count": 10,
   "metadata": {},
   "outputs": [],
   "source": [
    "rows = []                                                                                                # Prepare empty list for output rows and loop through PDB IDs\n",
    "for PDB_ID in PDB_IDS:\n",
    "\n",
    "   # ppdb = PandasPdb().fetch_pdb(PDB_ID)                                                                # Download PDB file (if not already present)\n",
    "   # pdb_path = f\"{PDB_ID}.pdb\"\n",
    "   # ppdb.to_pdb(pdb_path, records=None, gz=False)\n",
    "\n",
    "    pdb_path = f\"{PDB_ID}.pdb\"  # Alternative assuming PDB file is already downloaded\n",
    "    \n",
    "    structure = parser.get_structure(PDB_ID, pdb_path)                                                   # Parse PDB file and get structure and model\n",
    "    model = structure[0]\n",
    "\n",
    "    # Antigen-only structure\n",
    "    pdbio = PDBIO()                                                                                      # Create PDBIO object and save only antigen chains to a temp file\n",
    "    pdbio.set_structure(structure)\n",
    "    antigen_path = tempfile.gettempdir() + f\"/{PDB_ID}_antigen_only.pdb\"\n",
    "    pdbio.save(antigen_path, select=OnlyChains(antigen_chains))\n",
    "    antigen_model = parser.get_structure(PDB_ID+\"_ag\", antigen_path)[0]\n",
    "\n",
    "    # SASA\n",
    "    sasa_complex = per_residue_sasa(model)                                                               # Calculate per-residue SASA for complex and antigen-only to find ΔSASA\n",
    "    sasa_free    = per_residue_sasa(antigen_model)\n",
    "\n",
    "    # Binder atoms\n",
    "    binder_atoms = []                                                 # Collect all non-H atoms from non-antigen chains and create NeighborSearch object for fast distance queries\n",
    "    for ch in model:\n",
    "        if ch.id not in antigen_chains:\n",
    "            for res in ch:\n",
    "                if res.id[0] != \" \": continue\n",
    "                for atom in res:\n",
    "                    if atom.element != \"H\": binder_atoms.append(atom)\n",
    "    ns_binder = NeighborSearch(binder_atoms)\n",
    "\n",
    "    # Collect antigen residues, identify epitopes (distance ∩ ΔSASA)\n",
    "    residues = []\n",
    "    for ch in model:\n",
    "        if ch.id in antigen_chains:\n",
    "            for res in ch:                                                                                # For each antigen residue, check distance and ΔSASA criteria                            \n",
    "                if res.id[0] != \" \": continue\n",
    "                rid = (ch.id, res.id[1], res.id[2].strip() or \"\")\n",
    "                d_asa = sasa_free.get(rid, 0.0) - sasa_complex.get(rid, 0.0)\n",
    "                contact = residue_in_contact(res, ns_binder, DIST_CUTOFF)\n",
    "                residues.append((rid[1], res.get_resname(), contact and (d_asa >= DSASA_THRESH)))         # Store info in tuple e.g. (24, 'LYS', True)\n",
    "\n",
    "    # Build epitope lists\n",
    "    epi_positions = [r[0] for r in residues if r[2]]                                                      # Extract positions and residues for epitope residues only\n",
    "    epi_resnames  = [r[1] for r in residues if r[2]]\n",
    "    epi_residues  = [seq1(rn, custom_map={'SEC':'U','PYL':'O'}) for rn in epi_resnames]\n",
    "\n",
    "    # Full-antigen sequence + per-residue properties (aligned to entire antigen)\n",
    "    antigen_seq_str, antigen_hydros, antigen_charges = antigen_seq_and_props(model, antigen_chains, PH)\n",
    "\n",
    "    # Add one row\n",
    "    rows.append({\n",
    "        \"PDBID\": PDB_ID,\n",
    "        \"antigen_seq\": \"\".join(chain_seq(model, ch) for ch in antigen_chains),\n",
    "        \"light_chain_seq\": chain_seq(model, light_chain),\n",
    "        \"heavy_chain_seq\": chain_seq(model, heavy_chain),\n",
    "        \"epitope_positions\": \",\".join(map(str, epi_positions)),\n",
    "        \"epitope_residues\": \",\".join(epi_residues),\n",
    "        \"antigen_hydrophobicity\": \",\".join(\"\" if v is None else f\"{v:.3f}\" for v in antigen_hydros),\n",
    "        \"antigen_charge\": \",\".join(\"\" if v is None else f\"{v:.3f}\" for v in antigen_charges),\n",
    "    })"
   ]
  },
  {
   "cell_type": "markdown",
   "metadata": {},
   "source": [
    "**Final Data Frame**"
   ]
  },
  {
   "cell_type": "code",
   "execution_count": 11,
   "metadata": {},
   "outputs": [
    {
     "name": "stdout",
     "output_type": "stream",
     "text": [
      "  PDBID                                        antigen_seq  \\\n",
      "0  5X8L  AFTVTVPKDLYVVEYGSNMTIECKFPVEKELDLAALIVYWEMEDKN...   \n",
      "1  5XXY  AFTVTVPKDLYVVEYGSNMTIECKFPVDLAALIVYWEMEDKNIIQF...   \n",
      "\n",
      "                                     light_chain_seq  \\\n",
      "0  DIQMTQSPSSLSASVGDRVTITCRASQDVSTAVAWYQQKPGKAPKL...   \n",
      "1  DIQMTQSPSSLSASVGDRVTITCRASQDVSTAVAWYQQKPGKAPKL...   \n",
      "\n",
      "                                     heavy_chain_seq  \\\n",
      "0  EVQLVESGGGLVQPGGSLRLSCAASGFTFSDSWIHWVRQAPGKGLE...   \n",
      "1  EVQLVESGGGLVQPGGSLRLSCAASGFTFSDSWIHWVRQAPGKGLE...   \n",
      "\n",
      "                                   epitope_positions  \\\n",
      "0  20,24,25,37,39,41,42,43,44,45,46,47,49,51,52,5...   \n",
      "1  18,49,51,52,54,56,58,59,60,61,62,63,66,68,69,1...   \n",
      "\n",
      "                                    epitope_residues  \\\n",
      "0  T,P,K,T,E,K,F,P,V,E,K,E,D,A,A,I,Y,E,M,E,D,K,N,...   \n",
      "1  A,D,A,A,I,Y,E,M,E,D,K,N,Q,V,H,V,R,M,S,Y,G,G,A,...   \n",
      "\n",
      "                              antigen_hydrophobicity  \\\n",
      "0  1.800,2.800,-0.700,4.200,-0.700,4.200,-1.600,-...   \n",
      "1  1.800,2.800,-0.700,4.200,-0.700,4.200,-1.600,-...   \n",
      "\n",
      "                                      antigen_charge  \n",
      "0  -0.392,-0.443,-0.792,-0.477,-0.792,-0.477,-0.0...  \n",
      "1  -0.392,-0.443,-0.792,-0.477,-0.792,-0.477,-0.0...  \n",
      "Saved complex_summaries.csv\n"
     ]
    }
   ],
   "source": [
    "df_complexes = pd.DataFrame(rows)\n",
    "print(df_complexes)\n",
    "df_complexes.to_csv(\"complex_summaries.csv\", index=False)\n",
    "print(\"Saved complex_summaries.csv\")"
   ]
  }
 ],
 "metadata": {
  "kernelspec": {
   "display_name": ".venv (3.13.2)",
   "language": "python",
   "name": "python3"
  },
  "language_info": {
   "codemirror_mode": {
    "name": "ipython",
    "version": 3
   },
   "file_extension": ".py",
   "mimetype": "text/x-python",
   "name": "python",
   "nbconvert_exporter": "python",
   "pygments_lexer": "ipython3",
   "version": "3.13.2"
  }
 },
 "nbformat": 4,
 "nbformat_minor": 2
}
