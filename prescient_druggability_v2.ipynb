{
 "cells": [
  {
   "cell_type": "markdown",
   "metadata": {},
   "source": [
    "**Test Area for Prescient Project on Druggability**"
   ]
  },
  {
   "cell_type": "markdown",
   "metadata": {},
   "source": [
    "**Install dependencies in the terminal:**"
   ]
  },
  {
   "cell_type": "code",
   "execution_count": 61,
   "metadata": {},
   "outputs": [],
   "source": [
    "# pip install biopandas biopython pandas numpy"
   ]
  },
  {
   "cell_type": "markdown",
   "metadata": {},
   "source": [
    "**Import libraries:**"
   ]
  },
  {
   "cell_type": "code",
   "execution_count": 62,
   "metadata": {},
   "outputs": [],
   "source": [
    "from biopandas.pdb import PandasPdb\n",
    "from Bio.PDB import PDBParser, PDBIO, Select, NeighborSearch\n",
    "from Bio.PDB.SASA import ShrakeRupley\n",
    "from Bio.SeqUtils import seq1\n",
    "from Bio.SeqUtils.ProtParam import ProteinAnalysis\n",
    "from pathlib import Path\n",
    "import pandas as pd, tempfile"
   ]
  },
  {
   "cell_type": "markdown",
   "metadata": {},
   "source": [
    "**Import SabDab Dataset**"
   ]
  },
  {
   "cell_type": "code",
   "execution_count": 63,
   "metadata": {},
   "outputs": [],
   "source": [
    "# Download the SAbDab dataset (latest version as of 2025-05-14)\n",
    "sabdab = pd.read_parquet(\"s3://prescient-data-dev/sandbox/ludwiczj/sabdab/all/v0.5.3/sabdab_2025-05-14.parquet\")\n",
    "#sabdab.to_csv(\"sabdab.csv\", index=False)\n",
    "\n",
    "# retrieve all PDBs in the dataset from S3 area\n",
    "#aws s3 cp s3://prescient-data-dev/sandbox/ludwiczj/sabdab/all/v0.5.3/sabdab.tar.gz local_location\n",
    "#tar xvzf file.tar.gz"
   ]
  },
  {
   "cell_type": "markdown",
   "metadata": {},
   "source": [
    "**Configuration:**\n",
    "\n",
    "Use two definitions (distance AND ΔSASA)"
   ]
  },
  {
   "cell_type": "code",
   "execution_count": 64,
   "metadata": {},
   "outputs": [
    {
     "name": "stdout",
     "output_type": "stream",
     "text": [
      "Loaded 11740 PDB IDs from sabdab.\n"
     ]
    }
   ],
   "source": [
    "# Pull PDB IDs directly from sabdab[\"complex_fname\"]\n",
    "PDB_IDS = (\n",
    "    sabdab[\"complex_fname\"]\n",
    "    .dropna()                                 # remove any missing entries\n",
    "    .astype(str)                              # ensure they’re strings\n",
    "    .str.replace(\".pdb\", \"\", regex=False)     # remove file extension\n",
    "    .unique()                                 # keep only unique IDs\n",
    "    .tolist()                                 # convert to Python list\n",
    ")\n",
    "\n",
    "print(f\"Loaded {len(PDB_IDS)} PDB IDs from sabdab.\")\n"
   ]
  },
  {
   "cell_type": "code",
   "execution_count": 65,
   "metadata": {},
   "outputs": [],
   "source": [
    "pdb_dir = Path(r\"C:\\Users\\boddyc\\sabdab\")           # local directory containing all downloaded PDB files\n",
    "\n",
    "# pull PDB IDs directly from sabdab[\"complex_fname\"]\n",
    "PDB_IDS = (\n",
    "    sabdab[\"complex_fname\"]\n",
    "    .dropna()                                 # remove missing entries\n",
    "    .astype(str)                              # ensure strings\n",
    "    .unique()                                 # keep only unique IDs\n",
    "    .tolist()                                 # convert to Python list\n",
    ")\n",
    "\n",
    "DIST_CUTOFF = 4.5\n",
    "DSASA_THRESH = 2.0\n",
    "PH = 7.4\n",
    "antigen_chains = [\"A\"]\n",
    "light_chain = \"L\"\n",
    "heavy_chain = \"H\"\n",
    "\n",
    "parser = PDBParser(QUIET=True)"
   ]
  },
  {
   "cell_type": "markdown",
   "metadata": {},
   "source": [
    "**Helper functions:**\n"
   ]
  },
  {
   "cell_type": "code",
   "execution_count": 66,
   "metadata": {},
   "outputs": [],
   "source": [
    "# Sum the SASA of all atoms in each residue and return a dict with keys (chain, resnum, icode) - icode is insertion code (e.g. 23 24A 24B 25)\n",
    "def per_residue_sasa(model):\n",
    "    sr = ShrakeRupley(); sr.compute(model, level=\"A\")\n",
    "    res_sasa = {}\n",
    "    for chain in model:\n",
    "        for res in chain:\n",
    "            if res.id[0] != \" \": continue\n",
    "            sasa = sum(getattr(atom, \"sasa\", 0.0) for atom in res)\n",
    "            res_sasa[(chain.id, res.id[1], res.id[2].strip() or \"\")] = sasa\n",
    "    return res_sasa\n",
    "\n",
    "# For a given chain ID, return the amino acid sequence as a string of one-letter codes\n",
    "def chain_seq(model, chain_id):\n",
    "    seq = []\n",
    "    for ch in model:\n",
    "        if ch.id != chain_id: continue\n",
    "        for res in ch:\n",
    "            if res.id[0] != \" \": continue\n",
    "            aa = seq1(res.get_resname(), custom_map={'SEC':'U','PYL':'O'})\n",
    "            if aa and len(aa) == 1: seq.append(aa)\n",
    "    return \"\".join(seq)\n",
    "\n",
    "# Select only specified chains when saving a PDB file\n",
    "class OnlyChains(Select):\n",
    "    def __init__(self, keep): self.keep=set(keep)\n",
    "    def accept_chain(self, chain): return chain.id in self.keep\n",
    "\n",
    "# Return True if any heavy atom of res is within cutoff Å of any atom in ns (a NeighborSearch object)\n",
    "def residue_in_contact(res, ns, cutoff=4.5):\n",
    "    for atom in res:\n",
    "        if atom.element == \"H\": continue\n",
    "        if ns.search(atom.coord, cutoff): return True # (is this also neighbor searching to itself i.e. the same chain?)\n",
    "    return False\n",
    "\n",
    "# For a single letter amino acid and pH, return (hydrophobicity, charge); handle unknowns gracefully\n",
    "def aa_props(aa1: str, ph: float):\n",
    "    \"\"\"Return (hydrophobicity, charge) for a single-letter AA; handle unknowns gracefully.\"\"\"\n",
    "    try:\n",
    "        pa = ProteinAnalysis(aa1)\n",
    "        return pa.gravy(), pa.charge_at_pH(ph)\n",
    "    except Exception:\n",
    "        return None, None\n",
    "\n",
    "#    Build full antigen sequence and per-residue properties aligned to it.\n",
    "#    Returns: seq_str, hydros_list, charges_list\n",
    "def antigen_seq_and_props(model, ag_chains, ph):\n",
    "    seq_chars, hydros, charges = [], [], []\n",
    "    for ch in model:\n",
    "        if ch.id not in ag_chains: \n",
    "            continue\n",
    "        for res in ch:\n",
    "            if res.id[0] != \" \": \n",
    "                continue\n",
    "            aa = seq1(res.get_resname(), custom_map={'SEC':'U','PYL':'O'})\n",
    "            if not (aa and len(aa) == 1):\n",
    "                continue\n",
    "            seq_chars.append(aa)\n",
    "            h, c = aa_props(aa, ph)\n",
    "            hydros.append(h)\n",
    "            charges.append(c)\n",
    "    return \"\".join(seq_chars), hydros, charges"
   ]
  },
  {
   "cell_type": "markdown",
   "metadata": {},
   "source": [
    "**Main Loop Over PDBs**"
   ]
  },
  {
   "cell_type": "code",
   "execution_count": 68,
   "metadata": {},
   "outputs": [
    {
     "ename": "KeyboardInterrupt",
     "evalue": "",
     "output_type": "error",
     "traceback": [
      "\u001b[31m---------------------------------------------------------------------------\u001b[39m",
      "\u001b[31mKeyboardInterrupt\u001b[39m                         Traceback (most recent call last)",
      "\u001b[36mCell\u001b[39m\u001b[36m \u001b[39m\u001b[32mIn[68]\u001b[39m\u001b[32m, line 22\u001b[39m\n\u001b[32m     20\u001b[39m \u001b[38;5;66;03m# SASA\u001b[39;00m\n\u001b[32m     21\u001b[39m sasa_complex = per_residue_sasa(model)                                                               \u001b[38;5;66;03m# Calculate per-residue SASA for complex and antigen-only to find ΔSASA\u001b[39;00m\n\u001b[32m---> \u001b[39m\u001b[32m22\u001b[39m sasa_free    = \u001b[43mper_residue_sasa\u001b[49m\u001b[43m(\u001b[49m\u001b[43mantigen_model\u001b[49m\u001b[43m)\u001b[49m\n\u001b[32m     23\u001b[39m antigen_delta_sasa = []\n\u001b[32m     25\u001b[39m \u001b[38;5;66;03m# Binder atoms\u001b[39;00m\n",
      "\u001b[36mCell\u001b[39m\u001b[36m \u001b[39m\u001b[32mIn[66]\u001b[39m\u001b[32m, line 3\u001b[39m, in \u001b[36mper_residue_sasa\u001b[39m\u001b[34m(model)\u001b[39m\n\u001b[32m      2\u001b[39m \u001b[38;5;28;01mdef\u001b[39;00m\u001b[38;5;250m \u001b[39m\u001b[34mper_residue_sasa\u001b[39m(model):\n\u001b[32m----> \u001b[39m\u001b[32m3\u001b[39m     sr = ShrakeRupley(); \u001b[43msr\u001b[49m\u001b[43m.\u001b[49m\u001b[43mcompute\u001b[49m\u001b[43m(\u001b[49m\u001b[43mmodel\u001b[49m\u001b[43m,\u001b[49m\u001b[43m \u001b[49m\u001b[43mlevel\u001b[49m\u001b[43m=\u001b[49m\u001b[33;43m\"\u001b[39;49m\u001b[33;43mA\u001b[39;49m\u001b[33;43m\"\u001b[39;49m\u001b[43m)\u001b[49m\n\u001b[32m      4\u001b[39m     res_sasa = {}\n\u001b[32m      5\u001b[39m     \u001b[38;5;28;01mfor\u001b[39;00m chain \u001b[38;5;129;01min\u001b[39;00m model:\n",
      "\u001b[36mFile \u001b[39m\u001b[32mc:\\Users\\boddyc\\projects\\.venv\\Lib\\site-packages\\Bio\\PDB\\SASA.py:220\u001b[39m, in \u001b[36mShrakeRupley.compute\u001b[39m\u001b[34m(self, entity, level)\u001b[39m\n\u001b[32m    217\u001b[39m kdt_sphere = KDTree(s_on_i, \u001b[32m10\u001b[39m)\n\u001b[32m    219\u001b[39m \u001b[38;5;66;03m# Iterate over neighbors of atom i\u001b[39;00m\n\u001b[32m--> \u001b[39m\u001b[32m220\u001b[39m \u001b[38;5;28;01mfor\u001b[39;00m jj \u001b[38;5;129;01min\u001b[39;00m \u001b[43mkdt\u001b[49m\u001b[43m.\u001b[49m\u001b[43msearch\u001b[49m\u001b[43m(\u001b[49m\u001b[43mcoords\u001b[49m\u001b[43m[\u001b[49m\u001b[43mi\u001b[49m\u001b[43m]\u001b[49m\u001b[43m,\u001b[49m\u001b[43m \u001b[49m\u001b[43mtwice_maxradii\u001b[49m\u001b[43m)\u001b[49m:\n\u001b[32m    221\u001b[39m     j = jj.index\n\u001b[32m    222\u001b[39m     \u001b[38;5;28;01mif\u001b[39;00m i == j:\n",
      "\u001b[31mKeyboardInterrupt\u001b[39m: "
     ]
    }
   ],
   "source": [
    "rows = []                                                                                                # Prepare empty list for output rows and loop through PDB IDs\n",
    "for PDB_ID in PDB_IDS:\n",
    "\n",
    "   # ppdb = PandasPdb().fetch_pdb(PDB_ID)                                                                # Download PDB file (if not already present)\n",
    "   # pdb_path = f\"{PDB_ID}.pdb\"\n",
    "   # ppdb.to_pdb(pdb_path, records=None, gz=False)\n",
    "\n",
    "    pdb_path = pdb_dir / PDB_ID                                                                          # Alternative assuming PDB file is already downloaded from sabdab locally\n",
    "    \n",
    "    structure = parser.get_structure(PDB_ID, pdb_path)                                                   # Parse PDB file and get structure and model\n",
    "    model = structure[0]\n",
    "\n",
    "    # Antigen-only structure\n",
    "    pdbio = PDBIO()                                                                                      # Create PDBIO object and save only antigen chains to a temp file\n",
    "    pdbio.set_structure(structure)\n",
    "    antigen_path = tempfile.gettempdir() + f\"/{PDB_ID}_antigen_only.pdb\"\n",
    "    pdbio.save(antigen_path, select=OnlyChains(antigen_chains))\n",
    "    antigen_model = parser.get_structure(PDB_ID+\"_ag\", antigen_path)[0]\n",
    "\n",
    "    # SASA\n",
    "    sasa_complex = per_residue_sasa(model)                                                               # Calculate per-residue SASA for complex and antigen-only to find ΔSASA\n",
    "    sasa_free    = per_residue_sasa(antigen_model)\n",
    "    antigen_delta_sasa = []\n",
    "\n",
    "    # Binder atoms\n",
    "    binder_atoms = []                                                 # Collect all non-H atoms from non-antigen chains and create NeighborSearch object for fast distance queries\n",
    "    for ch in model:\n",
    "        if ch.id not in antigen_chains:\n",
    "            for res in ch:\n",
    "                if res.id[0] != \" \": continue\n",
    "                for atom in res:\n",
    "                    if atom.element != \"H\": binder_atoms.append(atom)\n",
    "    ns_binder = NeighborSearch(binder_atoms)\n",
    "\n",
    "    # Collect antigen residues, identify epitopes (distance ∩ ΔSASA)\n",
    "    residues = []\n",
    "    for ch in model:\n",
    "        if ch.id in antigen_chains:\n",
    "            for res in ch:                                                                                # For each antigen residue, check distance and ΔSASA criteria                            \n",
    "                if res.id[0] != \" \": continue\n",
    "                rid = (ch.id, res.id[1], res.id[2].strip() or \"\")\n",
    "                d_asa = sasa_free.get(rid, 0.0) - sasa_complex.get(rid, 0.0)\n",
    "                contact = residue_in_contact(res, ns_binder, DIST_CUTOFF)\n",
    "                residues.append((rid[1], res.get_resname(), contact and (d_asa >= DSASA_THRESH)))         # Store info in tuple e.g. (24, 'LYS', True)\n",
    "                antigen_delta_sasa.append(float(d_asa))\n",
    "\n",
    "    # Build epitope lists\n",
    "    epi_positions = [r[0] for r in residues if r[2]]                                                      # Extract positions and residues for epitope residues only\n",
    "    epi_resnames  = [r[1] for r in residues if r[2]]\n",
    "    epi_residues  = [seq1(rn, custom_map={'SEC':'U','PYL':'O'}) for rn in epi_resnames]\n",
    "\n",
    "    # Full-antigen sequence + per-residue properties (aligned to entire antigen)\n",
    "    antigen_seq_str, antigen_hydros, antigen_charges = antigen_seq_and_props(model, antigen_chains, PH)\n",
    "\n",
    "    # Add one row\n",
    "    rows.append({\n",
    "        \"PDBID\": PDB_ID,\n",
    "        \"antigen_seq\": \"\".join(chain_seq(model, ch) for ch in antigen_chains),\n",
    "        \"light_chain_seq\": chain_seq(model, light_chain),\n",
    "        \"heavy_chain_seq\": chain_seq(model, heavy_chain),\n",
    "        \"epitope_positions\": epi_positions,\n",
    "        \"epitope_residues\": epi_residues,\n",
    "        \"antigen_delta_sasa\": antigen_delta_sasa,\n",
    "        \"antigen_hydrophobicity\": antigen_hydros,\n",
    "        \"antigen_charge\": antigen_charges,\n",
    "    })"
   ]
  },
  {
   "cell_type": "markdown",
   "metadata": {},
   "source": [
    "**Final Data Frame**"
   ]
  },
  {
   "cell_type": "code",
   "execution_count": null,
   "metadata": {},
   "outputs": [
    {
     "name": "stdout",
     "output_type": "stream",
     "text": [
      "  PDBID                                        antigen_seq  \\\n",
      "0  5X8L  AFTVTVPKDLYVVEYGSNMTIECKFPVEKELDLAALIVYWEMEDKN...   \n",
      "1  5XXY  AFTVTVPKDLYVVEYGSNMTIECKFPVDLAALIVYWEMEDKNIIQF...   \n",
      "\n",
      "                                     light_chain_seq  \\\n",
      "0  DIQMTQSPSSLSASVGDRVTITCRASQDVSTAVAWYQQKPGKAPKL...   \n",
      "1  DIQMTQSPSSLSASVGDRVTITCRASQDVSTAVAWYQQKPGKAPKL...   \n",
      "\n",
      "                                     heavy_chain_seq  \\\n",
      "0  EVQLVESGGGLVQPGGSLRLSCAASGFTFSDSWIHWVRQAPGKGLE...   \n",
      "1  EVQLVESGGGLVQPGGSLRLSCAASGFTFSDSWIHWVRQAPGKGLE...   \n",
      "\n",
      "                                   epitope_positions  \\\n",
      "0  [20, 24, 25, 37, 39, 41, 42, 43, 44, 45, 46, 4...   \n",
      "1  [18, 49, 51, 52, 54, 56, 58, 59, 60, 61, 62, 6...   \n",
      "\n",
      "                                    epitope_residues  \\\n",
      "0  [T, P, K, T, E, K, F, P, V, E, K, E, D, A, A, ...   \n",
      "1  [A, D, A, A, I, Y, E, M, E, D, K, N, Q, V, H, ...   \n",
      "\n",
      "                                  antigen_delta_sasa  \\\n",
      "0  [12.71371130981251, 5.696021640223655, 12.2166...   \n",
      "1  [32.23902381113842, 1.6989733070613617, 0.0, 0...   \n",
      "\n",
      "                              antigen_hydrophobicity  \\\n",
      "0  [1.8, 2.8, -0.7, 4.2, -0.7, 4.2, -1.6, -3.9, -...   \n",
      "1  [1.8, 2.8, -0.7, 4.2, -0.7, 4.2, -1.6, -3.9, -...   \n",
      "\n",
      "                                      antigen_charge  \n",
      "0  [-0.39219770206852334, -0.4425471324330503, -0...  \n",
      "1  [-0.39219770206852334, -0.4425471324330503, -0...  \n"
     ]
    }
   ],
   "source": [
    "df_complexes = pd.DataFrame(rows)\n",
    "print(df_complexes)"
   ]
  },
  {
   "cell_type": "markdown",
   "metadata": {},
   "source": [
    "**Quality Control**"
   ]
  },
  {
   "cell_type": "code",
   "execution_count": null,
   "metadata": {},
   "outputs": [
    {
     "name": "stdout",
     "output_type": "stream",
     "text": [
      "=== Quality Control ===\n",
      "Total rows              : 2\n",
      "Epitope length matches  : 2 / 2\n",
      "Antigen property length matches : 2 / 2\n"
     ]
    }
   ],
   "source": [
    "epi_ok = df_complexes.apply(\n",
    "    lambda r: len(r[\"epitope_positions\"]) == len(r[\"epitope_residues\"]),\n",
    "    axis=1\n",
    ")\n",
    "\n",
    "props_ok = df_complexes.apply(\n",
    "    lambda r: (len(r[\"antigen_seq\"]) ==\n",
    "               len(r[\"antigen_delta_sasa\"]) ==\n",
    "               len(r[\"antigen_hydrophobicity\"]) ==\n",
    "               len(r[\"antigen_charge\"])),\n",
    "    axis=1\n",
    ")\n",
    "\n",
    "print(\"=== Quality Control ===\")\n",
    "print(f\"Total rows              : {len(df_complexes)}\")\n",
    "print(f\"Epitope length matches  : {epi_ok.sum()} / {len(epi_ok)}\")\n",
    "print(f\"Antigen property length matches : {props_ok.sum()} / {len(props_ok)}\")"
   ]
  },
  {
   "cell_type": "markdown",
   "metadata": {},
   "source": [
    "**Export**"
   ]
  },
  {
   "cell_type": "code",
   "execution_count": null,
   "metadata": {},
   "outputs": [
    {
     "name": "stdout",
     "output_type": "stream",
     "text": [
      "Saved complex_summaries.csv\n"
     ]
    }
   ],
   "source": [
    "df_complexes.to_csv(\"complex_summaries.csv\", index=False)\n",
    "print(\"Saved complex_summaries.csv\")"
   ]
  }
 ],
 "metadata": {
  "kernelspec": {
   "display_name": ".venv (3.13.2)",
   "language": "python",
   "name": "python3"
  },
  "language_info": {
   "codemirror_mode": {
    "name": "ipython",
    "version": 3
   },
   "file_extension": ".py",
   "mimetype": "text/x-python",
   "name": "python",
   "nbconvert_exporter": "python",
   "pygments_lexer": "ipython3",
   "version": "3.13.2"
  }
 },
 "nbformat": 4,
 "nbformat_minor": 2
}
